{
  "cells": [
    {
      "cell_type": "markdown",
      "metadata": {
        "id": "view-in-github",
        "colab_type": "text"
      },
      "source": [
        "<a href=\"https://colab.research.google.com/github/sthagrowl/Offensive-Hate-Speech-Detection/blob/main/offensive_speech_detection.ipynb\" target=\"_parent\"><img src=\"https://colab.research.google.com/assets/colab-badge.svg\" alt=\"Open In Colab\"/></a>"
      ]
    },
    {
      "cell_type": "markdown",
      "metadata": {
        "id": "Exg_V5Bvd0f6"
      },
      "source": [
        "# Offensive/Hate Speech Detector\n"
      ]
    },
    {
      "cell_type": "code",
      "execution_count": null,
      "metadata": {
        "id": "cxcku2kvd0f9"
      },
      "outputs": [],
      "source": [
        "import numpy as np\n",
        "import pandas as pd\n",
        " \n",
        "import matplotlib.pyplot as plt\n",
        "import seaborn as sns\n",
        "\n",
        "import re\n",
        "import string\n",
        "\n",
        "from tqdm import tqdm"
      ]
    },
    {
      "cell_type": "code",
      "execution_count": null,
      "metadata": {
        "id": "GBkLwoENd0gC"
      },
      "outputs": [],
      "source": [
        "\n",
        "import nltk\n",
        "from nltk.corpus import stopwords\n",
        "from nltk.stem import PorterStemmer\n",
        "from nltk.tokenize import TweetTokenizer"
      ]
    },
    {
      "cell_type": "markdown",
      "metadata": {
        "id": "2YW-Jprad0gD"
      },
      "source": [
        "## Import the dataset"
      ]
    },
    {
      "cell_type": "code",
      "execution_count": null,
      "metadata": {
        "id": "3X3CG0bHd0gE"
      },
      "outputs": [],
      "source": [
        "data = pd.read_csv('dataset.csv', index_col=0)"
      ]
    },
    {
      "cell_type": "code",
      "execution_count": null,
      "metadata": {
        "id": "Kt1DtloXd0gF",
        "outputId": "3a6f6744-7ac8-4c25-a34d-231c3dd6192d"
      },
      "outputs": [
        {
          "data": {
            "text/html": [
              "<div>\n",
              "<style scoped>\n",
              "    .dataframe tbody tr th:only-of-type {\n",
              "        vertical-align: middle;\n",
              "    }\n",
              "\n",
              "    .dataframe tbody tr th {\n",
              "        vertical-align: top;\n",
              "    }\n",
              "\n",
              "    .dataframe thead th {\n",
              "        text-align: right;\n",
              "    }\n",
              "</style>\n",
              "<table border=\"1\" class=\"dataframe\">\n",
              "  <thead>\n",
              "    <tr style=\"text-align: right;\">\n",
              "      <th></th>\n",
              "      <th>comment</th>\n",
              "      <th>hate_speech</th>\n",
              "    </tr>\n",
              "  </thead>\n",
              "  <tbody>\n",
              "    <tr>\n",
              "      <th>0</th>\n",
              "      <td>Explanation\\nWhy the edits made under my usern...</td>\n",
              "      <td>0</td>\n",
              "    </tr>\n",
              "    <tr>\n",
              "      <th>1</th>\n",
              "      <td>D'aww! He matches this background colour I'm s...</td>\n",
              "      <td>0</td>\n",
              "    </tr>\n",
              "    <tr>\n",
              "      <th>2</th>\n",
              "      <td>Hey man, I'm really not trying to edit war. It...</td>\n",
              "      <td>0</td>\n",
              "    </tr>\n",
              "    <tr>\n",
              "      <th>3</th>\n",
              "      <td>\"\\nMore\\nI can't make any real suggestions on ...</td>\n",
              "      <td>0</td>\n",
              "    </tr>\n",
              "    <tr>\n",
              "      <th>4</th>\n",
              "      <td>You, sir, are my hero. Any chance you remember...</td>\n",
              "      <td>0</td>\n",
              "    </tr>\n",
              "  </tbody>\n",
              "</table>\n",
              "</div>"
            ],
            "text/plain": [
              "                                             comment  hate_speech\n",
              "0  Explanation\\nWhy the edits made under my usern...            0\n",
              "1  D'aww! He matches this background colour I'm s...            0\n",
              "2  Hey man, I'm really not trying to edit war. It...            0\n",
              "3  \"\\nMore\\nI can't make any real suggestions on ...            0\n",
              "4  You, sir, are my hero. Any chance you remember...            0"
            ]
          },
          "execution_count": 4,
          "metadata": {},
          "output_type": "execute_result"
        }
      ],
      "source": [
        "data.head()"
      ]
    },
    {
      "cell_type": "code",
      "execution_count": null,
      "metadata": {
        "id": "ArE4j00qd0gH",
        "outputId": "a83907dc-004a-450a-9e4a-a5e4f5c83a6e"
      },
      "outputs": [
        {
          "data": {
            "text/plain": [
              "(159571, 2)"
            ]
          },
          "execution_count": 5,
          "metadata": {},
          "output_type": "execute_result"
        }
      ],
      "source": [
        "data.shape"
      ]
    },
    {
      "cell_type": "code",
      "execution_count": null,
      "metadata": {
        "id": "AZQxgWpgd0gI",
        "outputId": "39ffcbda-577f-4a85-f7fc-bfe32b9e092c"
      },
      "outputs": [
        {
          "name": "stdout",
          "output_type": "stream",
          "text": [
            "<class 'pandas.core.frame.DataFrame'>\n",
            "Int64Index: 159571 entries, 0 to 159570\n",
            "Data columns (total 2 columns):\n",
            " #   Column       Non-Null Count   Dtype \n",
            "---  ------       --------------   ----- \n",
            " 0   comment      159571 non-null  object\n",
            " 1   hate_speech  159571 non-null  int64 \n",
            "dtypes: int64(1), object(1)\n",
            "memory usage: 3.7+ MB\n"
          ]
        }
      ],
      "source": [
        "data.info()"
      ]
    },
    {
      "cell_type": "code",
      "execution_count": null,
      "metadata": {
        "id": "jQoEB_xgd0gI",
        "outputId": "b10c73d9-257f-4474-dac9-bc29c376fda8"
      },
      "outputs": [
        {
          "data": {
            "text/plain": [
              "comment        0.0\n",
              "hate_speech    0.0\n",
              "dtype: float64"
            ]
          },
          "execution_count": 7,
          "metadata": {},
          "output_type": "execute_result"
        }
      ],
      "source": [
        "#check the percentage of nan values \n",
        "data.isna().sum() / len(data) * 100"
      ]
    },
    {
      "cell_type": "markdown",
      "metadata": {
        "id": "wA9lmzQ2d0gJ"
      },
      "source": [
        "### Visualisation and Distrubution of the speech\n"
      ]
    },
    {
      "cell_type": "code",
      "execution_count": null,
      "metadata": {
        "id": "hGbBEHxyd0gK",
        "outputId": "c8478e30-4eb2-426b-979e-d457458018c4"
      },
      "outputs": [
        {
          "data": {
            "text/plain": [
              "<AxesSubplot:xlabel='hate_speech', ylabel='count'>"
            ]
          },
          "execution_count": 8,
          "metadata": {},
          "output_type": "execute_result"
        },
        {
          "data": {
            "image/png": "[encoded data removed]",
            "text/plain": [
              "<Figure size 576x288 with 1 Axes>"
            ]
          },
          "metadata": {
            "needs_background": "light"
          },
          "output_type": "display_data"
        }
      ],
      "source": [
        "fig, ax = plt.subplots(figsize = (8,4))\n",
        "sns.countplot(x = data[\"hate_speech\"])"
      ]
    },
    {
      "cell_type": "code",
      "execution_count": null,
      "metadata": {
        "id": "pwNkq3O-d0gL",
        "outputId": "ee2df8fb-b11d-47e4-c6e3-3c77d9e4d1b9"
      },
      "outputs": [
        {
          "name": "stdout",
          "output_type": "stream",
          "text": [
            "class 0 (non hate speech): 89.83%\n",
            "class 1 (hate speech): 10.17%\n"
          ]
        }
      ],
      "source": [
        "print(f'class 0 (non hate speech): {np.sum(data[\"hate_speech\"] == 0) / len(data) *100:.2f}%')\n",
        "print(f'class 1 (hate speech): {np.sum(data[\"hate_speech\"] == 1) / len(data) *100:.2f}%')"
      ]
    },
    {
      "cell_type": "markdown",
      "metadata": {
        "id": "VtE9u8eWd0gM"
      },
      "source": [
        "### Undersampling the data "
      ]
    },
    {
      "cell_type": "code",
      "execution_count": null,
      "metadata": {
        "id": "7QewWi3Vd0gM"
      },
      "outputs": [],
      "source": [
        "hate_data = data.loc[data.hate_speech == 1]\n",
        "non_hate_data = data.loc[data.hate_speech == 0]"
      ]
    },
    {
      "cell_type": "code",
      "execution_count": null,
      "metadata": {
        "id": "iQ4Uj6v2d0gN"
      },
      "outputs": [],
      "source": [
        "balanced_non_hate_data = data.loc[np.random.choice(non_hate_data.index, len(hate_data))]"
      ]
    },
    {
      "cell_type": "code",
      "execution_count": null,
      "metadata": {
        "id": "uYubdoRZd0gO"
      },
      "outputs": [],
      "source": [
        "df = pd.concat([balanced_non_hate_data,hate_data])"
      ]
    },
    {
      "cell_type": "code",
      "execution_count": null,
      "metadata": {
        "id": "XdZDNwRbd0gP",
        "outputId": "6aa6a4ac-6dad-4fd8-c841-43209ab140b8"
      },
      "outputs": [
        {
          "data": {
            "text/plain": [
              "<AxesSubplot:xlabel='hate_speech', ylabel='count'>"
            ]
          },
          "execution_count": 13,
          "metadata": {},
          "output_type": "execute_result"
        },
        {
          "data": {
            "image/png": "[encoded data removed]",
            "text/plain": [
              "<Figure size 576x288 with 1 Axes>"
            ]
          },
          "metadata": {
            "needs_background": "light"
          },
          "output_type": "display_data"
        }
      ],
      "source": [
        "fig, ax = plt.subplots(figsize = (8,4))\n",
        "sns.countplot(x = df[\"hate_speech\"])"
      ]
    },
    {
      "cell_type": "code",
      "execution_count": null,
      "metadata": {
        "id": "UeYLbN7Yd0gQ",
        "outputId": "a5bf454d-7d25-4c7c-ca72-fe72aef68478"
      },
      "outputs": [
        {
          "name": "stdout",
          "output_type": "stream",
          "text": [
            "class 0 (non hate speech): 50.00%\n",
            "class 1 (hate speech): 50.00%\n"
          ]
        }
      ],
      "source": [
        "print(f'class 0 (non hate speech): {np.sum(df[\"hate_speech\"] == 0) / len(df) *100:.2f}%')\n",
        "print(f'class 1 (hate speech): {np.sum(df[\"hate_speech\"] == 1) / len(df) *100:.2f}%')"
      ]
    },
    {
      "cell_type": "markdown",
      "metadata": {
        "id": "VQgdHiR_d0gR"
      },
      "source": [
        "### Data preparation: train-val-test split"
      ]
    },
    {
      "cell_type": "code",
      "execution_count": null,
      "metadata": {
        "id": "XzjsQtXEd0gR"
      },
      "outputs": [],
      "source": [
        "def get_splits(x, y, splits):\n",
        "    \"\"\"\n",
        "    The idea is to use an index list as reference:\n",
        "    To shuffle it randomly:\n",
        "    We need 'splits' to contain 2 values. \n",
        "  \n",
        "    \"\"\"\n",
        "    # Create an index list and shuffle it - use the function random.shuffle\n",
        "    data_len = len(x)\n",
        "    index_list = np.arange(data_len)\n",
        "    np.random.shuffle(index_list)\n",
        "    # Find the two indexes we'll use to cut the lists from the splits\n",
        "    train_cut_index = int(data_len*splits[0])\n",
        "    valid_cut_index = int(data_len*(splits[0]+splits[1]))\n",
        "    # Do the cutting (careful: you can't use a list as index for a list - this only works with tensors)\n",
        "    # (you need to use list comprehensions - or go through numpy)\n",
        "    train_x, train_y = np.take(x,index_list[:train_cut_index]),np.take(y,index_list[:train_cut_index])\n",
        "    valid_x, valid_y = np.take(x,index_list[train_cut_index:valid_cut_index]),np.take(y,index_list[train_cut_index:valid_cut_index])\n",
        "    test_x, test_y = np.take(x,index_list[valid_cut_index:]),np.take(y,index_list[valid_cut_index:])\n",
        "    return (train_x, train_y), (valid_x, valid_y), (test_x, test_y)"
      ]
    },
    {
      "cell_type": "code",
      "execution_count": null,
      "metadata": {
        "id": "Yy5kDt_vd0gT"
      },
      "outputs": [],
      "source": [
        "# Choose the training, validation, testing splits\n",
        "splits = (0.8, 0.1)\n",
        "(train_x, train_y), (valid_x, valid_y), (test_x, test_y) = get_splits(df.comment, df.hate_speech, splits)"
      ]
    },
    {
      "cell_type": "markdown",
      "metadata": {
        "id": "VjUXQBtzd0gT"
      },
      "source": [
        "### Data Preprocessing"
      ]
    },
    {
      "cell_type": "code",
      "execution_count": null,
      "metadata": {
        "id": "_wrv9Oqad0gU",
        "outputId": "40e1c9bb-271c-49c1-ad3e-cafa54d7d627"
      },
      "outputs": [
        {
          "name": "stderr",
          "output_type": "stream",
          "text": [
            "[nltk_data] Downloading package stopwords to\n",
            "[nltk_data]     C:\\Users\\user\\AppData\\Roaming\\nltk_data...\n",
            "[nltk_data]   Package stopwords is already up-to-date!\n"
          ]
        },
        {
          "data": {
            "text/plain": [
              "True"
            ]
          },
          "execution_count": 17,
          "metadata": {},
          "output_type": "execute_result"
        }
      ],
      "source": [
        "nltk.download('stopwords')"
      ]
    },
    {
      "cell_type": "code",
      "execution_count": null,
      "metadata": {
        "id": "nWrkIG4Hd0gV"
      },
      "outputs": [],
      "source": [
        "def clean_and_tokenize(text):\n",
        "    \"\"\"  \n",
        "    Process text function.\n",
        "    Input: text\n",
        "    Output: text_clean: a list of words containing the processed text \n",
        "    \n",
        "    \"\"\"\n",
        "    stemmer = PorterStemmer()\n",
        "    stopwords_english = stopwords.words('english')\n",
        "    # remove stock market tickers like $GE\n",
        "    text = re.sub(r'\\$\\w*', '', text)\n",
        "    # remove hyperlinks    \n",
        "    text = re.sub(r'https?://[^\\s\\n\\r]+', '', text)\n",
        "    # only removing the hash # sign from the word\n",
        "    text = re.sub(r'#', '', text)\n",
        "    # remove numbers, points, \n",
        "    text = re.sub(r'[0-9]+', '',text)\n",
        "    text = re.sub(r'\\.', '', text)\n",
        "    # Remove small words (1 and 2 characters)\n",
        "    text = re.sub(r\"\\b\\w{1,2}\\b\", \"\", text)    \n",
        "    text = text.lower()\n",
        "    # tokenize text\n",
        "    tokenizer = TweetTokenizer(preserve_case=False, strip_handles=True, reduce_len=True)\n",
        "    text_tokens = tokenizer.tokenize(text)\n",
        "    text_clean = []\n",
        "    \n",
        "    for word in text_tokens:\n",
        "        if (word not in stopwords_english and  # remove stopwords\n",
        "                word not in string.punctuation):  # remove punctuation\n",
        "            stem_word = stemmer.stem(word)  # stemming word\n",
        "            text_clean.append(stem_word)\n",
        "\n",
        "    return text_clean"
      ]
    },
    {
      "cell_type": "code",
      "execution_count": null,
      "metadata": {
        "id": "IPHvVZH5d0gX",
        "outputId": "0557fd84-4a84-4f71-bc75-11ed7cdd5515"
      },
      "outputs": [
        {
          "data": {
            "text/plain": [
              "['love', 'machin', 'learn', 'nchsd', ':)']"
            ]
          },
          "execution_count": 19,
          "metadata": {},
          "output_type": "execute_result"
        }
      ],
      "source": [
        "clean_and_tokenize(\"I love machine learning 0 */nchsd<p> :)\")"
      ]
    },
    {
      "cell_type": "code",
      "execution_count": null,
      "metadata": {
        "id": "ogwu-N5Yd0gY"
      },
      "outputs": [],
      "source": [
        "text_len = [len(clean_and_tokenize(s)) for s in df.comment]\n",
        "text_len = [l for l in text_len if l <500]"
      ]
    },
    {
      "cell_type": "code",
      "execution_count": null,
      "metadata": {
        "id": "aFQ8gQYvd0gY",
        "outputId": "acdcc530-8d77-4644-961c-d8c11dfe6eea"
      },
      "outputs": [
        {
          "data": {
            "image/png": "[encoded data removed]",
            "text/plain": [
              "<Figure size 432x288 with 1 Axes>"
            ]
          },
          "metadata": {
            "needs_background": "light"
          },
          "output_type": "display_data"
        }
      ],
      "source": [
        "sns.histplot(data=text_len,bins=50)\n",
        "plt.title(\"sentence length distribution\")\n",
        "plt.show()"
      ]
    },
    {
      "cell_type": "code",
      "execution_count": null,
      "metadata": {
        "id": "-GgrpSdjd0gZ"
      },
      "outputs": [],
      "source": [
        "import torch\n",
        "import torch.nn as nn\n",
        "import torch.nn.functional as F\n",
        "import torch.optim as optim\n",
        "\n",
        "import torchtext\n",
        "from torchtext.vocab import vocab\n",
        "\n",
        "from torch.utils.data import Dataset,DataLoader\n",
        "from torch.nn.utils.rnn import pad_sequence\n",
        "\n",
        "from collections import Counter"
      ]
    },
    {
      "cell_type": "markdown",
      "metadata": {
        "id": "A2R9EH6Jd0gZ"
      },
      "source": [
        "#### Creating the Vocabulary\n"
      ]
    },
    {
      "cell_type": "code",
      "execution_count": null,
      "metadata": {
        "id": "rp-gusdWd0gZ"
      },
      "outputs": [],
      "source": [
        "def build_vocab(df, tokenizer,min_freq = 1):\n",
        "    assert min_freq > 0\n",
        "    counter = Counter(['<unk>', '<pad>']*min_freq)\n",
        "    for s in df:\n",
        "        counter.update(tokenizer(s))\n",
        "    v =  vocab(counter,min_freq=min_freq)\n",
        "    unk_token = '<unk>'\n",
        "    v.set_default_index(v[unk_token])\n",
        "    return v"
      ]
    },
    {
      "cell_type": "code",
      "execution_count": null,
      "metadata": {
        "id": "21dpnwXpd0ga"
      },
      "outputs": [],
      "source": [
        "en_vocab = build_vocab(df.comment,clean_and_tokenize,min_freq=5)"
      ]
    },
    {
      "cell_type": "code",
      "execution_count": null,
      "metadata": {
        "id": "g4x-XpB1d0ga",
        "outputId": "15d25673-b985-41f2-b6ee-09bccc99cc5b"
      },
      "outputs": [
        {
          "name": "stdout",
          "output_type": "stream",
          "text": [
            "10863\n"
          ]
        }
      ],
      "source": [
        "print(len(en_vocab))"
      ]
    },
    {
      "cell_type": "code",
      "execution_count": null,
      "metadata": {
        "id": "f5IyUV1nd0gb"
      },
      "outputs": [],
      "source": [
        "PAD_IDX = en_vocab['<pad>']"
      ]
    },
    {
      "cell_type": "markdown",
      "metadata": {
        "id": "KN7cd1WHd0gb"
      },
      "source": [
        "#### Pytorch dataset"
      ]
    },
    {
      "cell_type": "code",
      "execution_count": null,
      "metadata": {
        "id": "uTVe1y2Rd0gc"
      },
      "outputs": [],
      "source": [
        "class TextClassificationDataset(Dataset):\n",
        "    def __init__(self, data, categories, vocab = None, max_length = 100,min_freq = 5):\n",
        "        # Text data\n",
        "        self.data = data\n",
        "        \n",
        "        # Allow to import a vocabulary (for valid/test datasets, that will use the training vocabulary)\n",
        "        if vocab is not None:\n",
        "            self.vocab = vocab\n",
        "        else:\n",
        "            # If no vocabulary imported, build it\n",
        "            self.vocab = build_vocab(self.data, clean_and_tokenize,min_freq)\n",
        "\n",
        "        # Tokenize the data\n",
        "        # Transform words into lists of indexes\n",
        "        # Transform this list of of indexes into Pytorch Tensor\n",
        "        tensor_data = [ torch.tensor([vocab[w] for w in clean_and_tokenize(sentence)][:max_length]) for sentence in self.data ]\n",
        "        self.tensor_data = pad_sequence(tensor_data, batch_first=True, padding_value = PAD_IDX)\n",
        "        \n",
        "        \n",
        "        # Transform the categories into a FloatTensor\n",
        "        self.tensor_y  = torch.FloatTensor(np.array(categories))\n",
        "        \n",
        "        \n",
        "    def __len__(self):\n",
        "        return len(self.data)\n",
        "\n",
        "    def __getitem__(self, idx):\n",
        "        # The iterator just gets one particular example with its category\n",
        "        # The dataloader will take care of the shuffling and batching\n",
        "        if torch.is_tensor(idx):\n",
        "            idx = idx.tolist()\n",
        "        return self.tensor_data[idx], self.tensor_y[idx] \n",
        "    \n",
        "    def get_vocab(self):\n",
        "        # A simple way to get the training vocab when building the valid/test \n",
        "        return self.vocab"
      ]
    },
    {
      "cell_type": "code",
      "execution_count": null,
      "metadata": {
        "id": "S2jX-Lf4d0gc"
      },
      "outputs": [],
      "source": [
        "training_dataset = TextClassificationDataset(train_x, train_y,en_vocab)\n",
        "valid_dataset = TextClassificationDataset(valid_x, valid_y, en_vocab)\n",
        "test_dataset = TextClassificationDataset(test_x, test_y,en_vocab)"
      ]
    },
    {
      "cell_type": "code",
      "execution_count": null,
      "metadata": {
        "id": "c29cN-2Nd0gd"
      },
      "outputs": [],
      "source": [
        "BATCH_SIZE = 128\n",
        "## Dataloaders\n",
        "training_dataloader = DataLoader(training_dataset, batch_size = BATCH_SIZE, shuffle=True)\n",
        "valid_dataloader = DataLoader(valid_dataset, batch_size = 25)\n",
        "test_dataloader = DataLoader(test_dataset, batch_size = 25)"
      ]
    },
    {
      "cell_type": "markdown",
      "metadata": {
        "id": "o3-crj_hd0ge"
      },
      "source": [
        "## Models"
      ]
    },
    {
      "cell_type": "markdown",
      "metadata": {
        "id": "PIfPURKad0ge"
      },
      "source": [
        "### Model 1 : Simple averaging model"
      ]
    },
    {
      "cell_type": "code",
      "execution_count": null,
      "metadata": {
        "id": "kL-QNWDad0gf"
      },
      "outputs": [],
      "source": [
        "class AveragingModel(nn.Module):    \n",
        "    def __init__(self, embedding_dim, vocabulary_size):\n",
        "        super().__init__()\n",
        "        # Create an embedding object. Be careful to padding - you need to increase the vocabulary size by one !\n",
        "        # Look into the arguments of the nn.Embedding class\n",
        "        self.embeddings = nn.Embedding(vocabulary_size,embedding_dim=embedding_dim,padding_idx= PAD_IDX)\n",
        "        # Create a linear layer that will transform the mean of the embeddings into a classification score\n",
        "        self.fc1 = nn.Linear(embedding_dim,1)\n",
        "        \n",
        "        # No need for sigmoid, it will be into the criterion ! \n",
        "        \n",
        "    def forward(self, inputs):\n",
        "        # Remember: the inpts are written as Batch_size * seq_length * embedding_dim\n",
        "        # First, take the mean of the embeddings of the document\n",
        "        x = self.embeddings(inputs)\n",
        "        x = torch.mean(x,dim=1)\n",
        "        # Then make it go through the linear layer and remove the extra dimension with the method .squeeze()\n",
        "        x = self.fc1(x)\n",
        "        o = torch.squeeze(x,dim=1)\n",
        "        return o"
      ]
    },
    {
      "cell_type": "markdown",
      "metadata": {
        "id": "X_zolsatd0gf"
      },
      "source": [
        "### Model 2: Pretrained Averaging Model with Glove embeddings"
      ]
    },
    {
      "cell_type": "code",
      "execution_count": null,
      "metadata": {
        "id": "6IsSAWPid0gg",
        "outputId": "2c9cff72-cc21-4612-d23b-6c86b6c5dc97"
      },
      "outputs": [
        {
          "name": "stdout",
          "output_type": "stream",
          "text": [
            "Requirement already satisfied: gensim in c:\\users\\user\\anaconda3\\envs\\kite\\lib\\site-packages (4.1.2)\n",
            "Requirement already satisfied: smart-open>=1.8.1 in c:\\users\\user\\anaconda3\\envs\\kite\\lib\\site-packages (from gensim) (5.2.1)\n",
            "Requirement already satisfied: Cython==0.29.23 in c:\\users\\user\\anaconda3\\envs\\kite\\lib\\site-packages (from gensim) (0.29.23)\n",
            "Requirement already satisfied: scipy>=0.18.1 in c:\\users\\user\\anaconda3\\envs\\kite\\lib\\site-packages (from gensim) (1.7.3)\n",
            "Requirement already satisfied: numpy>=1.17.0 in c:\\users\\user\\anaconda3\\envs\\kite\\lib\\site-packages (from gensim) (1.18.5)\n"
          ]
        }
      ],
      "source": [
        "!pip install gensim"
      ]
    },
    {
      "cell_type": "code",
      "execution_count": null,
      "metadata": {
        "id": "eqUSDg8Td0gg"
      },
      "outputs": [],
      "source": [
        "import gensim.downloader as api\n",
        "loaded_glove_model = api.load(\"glove-wiki-gigaword-300\")\n",
        "loaded_glove_embeddings = loaded_glove_model.vectors"
      ]
    },
    {
      "cell_type": "code",
      "execution_count": null,
      "metadata": {
        "id": "SWtK2PoEd0gh",
        "outputId": "77b5edf0-f5ab-472d-ceaa-79ab849002af"
      },
      "outputs": [
        {
          "name": "stdout",
          "output_type": "stream",
          "text": [
            "(10863, 300)\n"
          ]
        }
      ],
      "source": [
        "def get_glove_adapted_embeddings(glove_model, input_voc):\n",
        "    keys = {i: glove_model.key_to_index.get(w, None) for w, i in input_voc.items()}\n",
        "    index_dict = {i: key for i, key in keys.items() if key is not None}\n",
        "    \n",
        "    embeddings_d = glove_model.vectors.shape[1]\n",
        "    embeddings_shape = (len(input_voc),embeddings_d)\n",
        "    \n",
        "    embeddings = np.random.normal(loc=0.0,scale=0.001,size=embeddings_shape)\n",
        "    embeddings[input_voc[\"<pad>\"],:] = np.zeros((embeddings_d,))\n",
        "    embeddings[input_voc[\"<unk>\"],:] = np.zeros((embeddings_d,))\n",
        "    \n",
        "    print(embeddings.shape)\n",
        "    \n",
        "    for i, ind in index_dict.items():\n",
        "        embeddings[i] = glove_model.vectors[ind]\n",
        "    return embeddings\n",
        "\n",
        "GloveEmbeddings = get_glove_adapted_embeddings(loaded_glove_model, en_vocab.get_stoi())"
      ]
    },
    {
      "cell_type": "code",
      "execution_count": null,
      "metadata": {
        "id": "5B6pS-SUd0gh"
      },
      "outputs": [],
      "source": [
        "class PretrainedAveragingModel(nn.Module):\n",
        "    def __init__(self,fine_tuning=False):\n",
        "        super().__init__()\n",
        "        # Create an embedding object. Be careful to padding - you need to increase the vocabulary size by one !\n",
        "        # Look into the arguments of the nn.Embedding class\n",
        "        self.embeddings = nn.Embedding.from_pretrained(torch.FloatTensor(GloveEmbeddings))\n",
        "        self.embeddings.requires_grad = fine_tuning\n",
        "        # Create a linear layer that will transform the mean of the embeddings into a classification score\n",
        "        self.linear = nn.Linear(GloveEmbeddings.shape[1],1)\n",
        "        \n",
        "        # No need for sigmoid, it will be into the criterion ! \n",
        "        \n",
        "    def forward(self, inputs):\n",
        "        # Remember: the inpts are written as Batch_size * seq_length * embedding_dim\n",
        "        # First, take the mean of the embeddings of the document\n",
        "        x = self.embeddings(inputs)\n",
        "        x = torch.mean(x,dim=1)\n",
        "        # Then make it go through the linear layer and remove the extra dimension with the method .squeeze()\n",
        "        x = self.linear(x)\n",
        "        o = torch.squeeze(x,dim=1)\n",
        "        return o"
      ]
    },
    {
      "cell_type": "markdown",
      "metadata": {
        "id": "RLGOC11id0gi"
      },
      "source": [
        "### Model 3: LSTM"
      ]
    },
    {
      "cell_type": "code",
      "execution_count": null,
      "metadata": {
        "id": "wfpx5N9Gd0gi"
      },
      "outputs": [],
      "source": [
        "class LSTMModel(nn.Module):\n",
        "    def __init__(self, embedding_dim, hidden_dim, embeddings=None, fine_tuning=False):\n",
        "        super().__init__()\n",
        "        self.hidden_dim = hidden_dim\n",
        "        self.lstm = nn.LSTM(embedding_dim,hidden_dim,batch_first=True)\n",
        "\n",
        "        if embeddings is None:\n",
        "            self.embeddings = nn.Embedding.from_pretrained(torch.FloatTensor(GloveEmbeddings))\n",
        "        else:\n",
        "            self.embeddings = embeddings\n",
        "\n",
        "        self.embeddings.requires_grad = fine_tuning\n",
        "        # Create a linear layer that will transform the mean of the embeddings into a classification score\n",
        "        self.linear = nn.Linear(hidden_dim,1)\n",
        "\n",
        "    def forward(self, inputs):\n",
        "        x = self.embeddings(inputs)\n",
        "        lstm_out, (ht, ct) = self.lstm(x)\n",
        "        x = torch.squeeze(ht[-1],dim=0)\n",
        "        x = self.linear(x)\n",
        "        out = torch.squeeze(x,dim=1)\n",
        "        return out"
      ]
    },
    {
      "cell_type": "markdown",
      "metadata": {
        "id": "BeklBKAEd0gj"
      },
      "source": [
        "## Train"
      ]
    },
    {
      "cell_type": "code",
      "execution_count": null,
      "metadata": {
        "id": "04aK7vYxd0gj",
        "outputId": "f6893010-ed70-44af-c016-d10b0640e412"
      },
      "outputs": [
        {
          "name": "stdout",
          "output_type": "stream",
          "text": [
            "device: cuda\n"
          ]
        }
      ],
      "source": [
        "device = torch.device('cuda' if torch.cuda.is_available() else 'cpu')\n",
        "print(\"device:\", device)"
      ]
    },
    {
      "cell_type": "code",
      "execution_count": null,
      "metadata": {
        "id": "55zebxYHd0gk"
      },
      "outputs": [],
      "source": [
        "def train_epoch(model, opt, criterion, dataloader,disable_bar = False):\n",
        "    model.train()\n",
        "    losses = []\n",
        "    accuracies = []\n",
        "    with tqdm(total=len(dataloader), disable=disable_bar) as pbar:\n",
        "        for i, (x, y) in enumerate(dataloader):\n",
        "            opt.zero_grad()\n",
        "            # Forward\n",
        "            x, y = x.to(device), y.to(device)\n",
        "            pred = model(x)\n",
        "            # Compute the loss \n",
        "            loss = criterion(pred,y)\n",
        "            # Compute gradients with the criterion\n",
        "            loss.backward()\n",
        "            # Update weights with the optimizer\n",
        "            opt.step() \n",
        "            losses.append(loss.item())\n",
        "            \n",
        "            # Count the number of correct predictions in the batch - here, you'll need to use the sigmoid\n",
        "            num_corrects = ((pred>0) == y).sum() \n",
        "            acc = 100.0 * num_corrects/len(y)\n",
        "            accuracies.append(acc.item())\n",
        "            \n",
        "            training_loss = np.mean(losses)\n",
        "            training_accurcy = np.mean(accuracies)\n",
        "            \n",
        "            pbar.set_description(f'training loss: {training_loss:.4f}, training acc: {training_accurcy:.4f}')\n",
        "            pbar.update(1)\n",
        "            \n",
        "    return losses"
      ]
    },
    {
      "cell_type": "code",
      "execution_count": null,
      "metadata": {
        "id": "EGkHBzJVd0gl"
      },
      "outputs": [],
      "source": [
        "def eval_model(model, criterion, evalloader):\n",
        "    model.eval()\n",
        "    total_epoch_loss = 0\n",
        "    total_epoch_acc = 0\n",
        "    with torch.no_grad():\n",
        "        for i, (x, y) in enumerate(evalloader):\n",
        "            x, y = x.to(device), y.to(device)\n",
        "            pred = model(x)\n",
        "            loss = criterion(pred,y)\n",
        "            num_corrects = ((pred>0) == y).sum() \n",
        "            acc = 100.0 * num_corrects/len(y)\n",
        "            total_epoch_loss += loss.item()\n",
        "            total_epoch_acc += acc.item()\n",
        "    return total_epoch_loss/(i+1), total_epoch_acc/(i+1)"
      ]
    },
    {
      "cell_type": "code",
      "execution_count": null,
      "metadata": {
        "id": "mO0AbaMid0gm"
      },
      "outputs": [],
      "source": [
        "class EarlyStopping():\n",
        "    \"\"\"\n",
        "    Early stopping to stop the training when the loss does not improve after\n",
        "    certain epochs.\n",
        "    \"\"\"\n",
        "    def __init__(self, patience=5, min_delta=0):\n",
        "        \"\"\"\n",
        "        :param patience: how many epochs to wait before stopping when loss is\n",
        "               not improving\n",
        "        :param min_delta: minimum difference between new loss and old loss for\n",
        "               new loss to be considered as an improvement\n",
        "        \"\"\"\n",
        "        self.patience = patience\n",
        "        self.min_delta = min_delta\n",
        "        self.counter = 0\n",
        "        self.best_loss = None\n",
        "        self.early_stop = False\n",
        "    def __call__(self, val_loss):\n",
        "        if self.best_loss == None:\n",
        "            self.best_loss = val_loss\n",
        "        elif self.best_loss - val_loss > self.min_delta:\n",
        "            self.best_loss = val_loss\n",
        "            # reset counter if validation loss improves\n",
        "            self.counter = 0\n",
        "        elif self.best_loss - val_loss < self.min_delta:\n",
        "            self.counter += 1\n",
        "            print(f\"INFO: Early stopping counter {self.counter} of {self.patience}\")\n",
        "            if self.counter >= self.patience:\n",
        "                print('INFO: Early stopping')\n",
        "                self.early_stop = True"
      ]
    },
    {
      "cell_type": "code",
      "execution_count": null,
      "metadata": {
        "id": "1wW1rIldd0gm"
      },
      "outputs": [],
      "source": [
        "# A function which will help to execute experiments rapidly - with a early_stopping option when necessary. \n",
        "def experiment(model, opt, criterion, num_epochs = 5, use_early_stopping = True):\n",
        "    train_losses = []\n",
        "    if use_early_stopping:\n",
        "        early_stopping = EarlyStopping(patience=5,min_delta=0.01)\n",
        "        \n",
        "    print(\"Beginning training...\")\n",
        "        \n",
        "    for e in range(num_epochs):\n",
        "        print(\"Epoch \" + str(e+1) + \":\")\n",
        "            \n",
        "        train_losses += train_epoch(model, opt, criterion, training_dataloader,disable_bar=False)\n",
        "        valid_loss, valid_acc = eval_model(model, criterion, valid_dataloader)\n",
        "        \n",
        "        print(f'Validation loss: {valid_loss:.4f}, Validation acc: {valid_acc:.4f}')\n",
        "            \n",
        "        if use_early_stopping:\n",
        "            early_stopping(valid_loss)\n",
        "            if early_stopping.early_stop:\n",
        "                break  \n",
        "            \n",
        "    test_loss, test_acc = eval_model(model, criterion, test_dataloader)\n",
        "    print(f'Test loss: {test_loss:.4f}, Test acc: {test_acc:.4f}')\n",
        "        \n",
        "    return train_losses"
      ]
    },
    {
      "cell_type": "markdown",
      "metadata": {
        "id": "ipW_OUVqd0gn"
      },
      "source": [
        "### Model selection"
      ]
    },
    {
      "cell_type": "markdown",
      "metadata": {
        "id": "-5Vzx6fhd0gn"
      },
      "source": [
        "#### Model 1"
      ]
    },
    {
      "cell_type": "code",
      "execution_count": null,
      "metadata": {
        "id": "36F-EBcid0go"
      },
      "outputs": [],
      "source": [
        "model1 = AveragingModel(300, len(en_vocab))\n",
        "model1 = model1.to(device)\n",
        "# Create an optimizer\n",
        "opt = optim.Adam(model1.parameters(), lr=0.0025, betas=(0.9, 0.999))\n",
        "# The criterion is a binary cross entropy loss based on logits - meaning that the sigmoid is integrated into the criterion\n",
        "# pos_weight = torch.tensor([9]).to(device)\n",
        "criterion = nn.BCEWithLogitsLoss()"
      ]
    },
    {
      "cell_type": "code",
      "execution_count": null,
      "metadata": {
        "id": "YNzJ5beTd0go",
        "outputId": "40ecfe25-1d03-48b4-937a-792314fd64b9"
      },
      "outputs": [
        {
          "name": "stdout",
          "output_type": "stream",
          "text": [
            "Beginning training...\n",
            "Epoch 1:\n"
          ]
        },
        {
          "name": "stderr",
          "output_type": "stream",
          "text": [
            "training loss: 0.5595, training acc: 76.4411: 100%|██████████| 203/203 [00:04<00:00, 44.15it/s] \n"
          ]
        },
        {
          "name": "stdout",
          "output_type": "stream",
          "text": [
            "Validation loss: 0.4462, Validation acc: 83.7385\n",
            "Epoch 2:\n"
          ]
        },
        {
          "name": "stderr",
          "output_type": "stream",
          "text": [
            "training loss: 0.3572, training acc: 87.7093: 100%|██████████| 203/203 [00:01<00:00, 104.25it/s]\n"
          ]
        },
        {
          "name": "stdout",
          "output_type": "stream",
          "text": [
            "Validation loss: 0.3676, Validation acc: 87.3077\n",
            "Epoch 3:\n"
          ]
        },
        {
          "name": "stderr",
          "output_type": "stream",
          "text": [
            "training loss: 0.2697, training acc: 91.2914: 100%|██████████| 203/203 [00:02<00:00, 100.55it/s]\n"
          ]
        },
        {
          "name": "stdout",
          "output_type": "stream",
          "text": [
            "Validation loss: 0.3426, Validation acc: 88.8077\n",
            "Epoch 4:\n"
          ]
        },
        {
          "name": "stderr",
          "output_type": "stream",
          "text": [
            "training loss: 0.2180, training acc: 93.0271: 100%|██████████| 203/203 [00:02<00:00, 87.51it/s] \n"
          ]
        },
        {
          "name": "stdout",
          "output_type": "stream",
          "text": [
            "Validation loss: 0.3380, Validation acc: 89.4538\n",
            "INFO: Early stopping counter 1 of 5\n",
            "Epoch 5:\n"
          ]
        },
        {
          "name": "stderr",
          "output_type": "stream",
          "text": [
            "training loss: 0.1841, training acc: 94.1198: 100%|██████████| 203/203 [00:02<00:00, 94.29it/s]\n"
          ]
        },
        {
          "name": "stdout",
          "output_type": "stream",
          "text": [
            "Validation loss: 0.3495, Validation acc: 89.7077\n",
            "INFO: Early stopping counter 2 of 5\n",
            "Epoch 6:\n"
          ]
        },
        {
          "name": "stderr",
          "output_type": "stream",
          "text": [
            "training loss: 0.1599, training acc: 94.8223: 100%|██████████| 203/203 [00:02<00:00, 97.49it/s] \n"
          ]
        },
        {
          "name": "stdout",
          "output_type": "stream",
          "text": [
            "Validation loss: 0.3632, Validation acc: 89.8615\n",
            "INFO: Early stopping counter 3 of 5\n",
            "Epoch 7:\n"
          ]
        },
        {
          "name": "stderr",
          "output_type": "stream",
          "text": [
            "training loss: 0.1422, training acc: 95.3782: 100%|██████████| 203/203 [00:01<00:00, 102.01it/s]\n"
          ]
        },
        {
          "name": "stdout",
          "output_type": "stream",
          "text": [
            "Validation loss: 0.3831, Validation acc: 89.6692\n",
            "INFO: Early stopping counter 4 of 5\n",
            "Epoch 8:\n"
          ]
        },
        {
          "name": "stderr",
          "output_type": "stream",
          "text": [
            "training loss: 0.1283, training acc: 95.8323: 100%|██████████| 203/203 [00:01<00:00, 105.18it/s]\n"
          ]
        },
        {
          "name": "stdout",
          "output_type": "stream",
          "text": [
            "Validation loss: 0.4089, Validation acc: 89.3923\n",
            "INFO: Early stopping counter 5 of 5\n",
            "INFO: Early stopping\n",
            "Test loss: 0.3630, Test acc: 89.0462\n"
          ]
        }
      ],
      "source": [
        "train_losses = experiment(model1, opt, criterion,num_epochs=10)"
      ]
    },
    {
      "cell_type": "markdown",
      "metadata": {
        "id": "bU8gzR3Vd0gp"
      },
      "source": [
        "#### Model2 "
      ]
    },
    {
      "cell_type": "code",
      "execution_count": null,
      "metadata": {
        "id": "8uoefQY_d0gp"
      },
      "outputs": [],
      "source": [
        "model2 = PretrainedAveragingModel(fine_tuning=False)\n",
        "model2 = model2.to(device)\n",
        "# Create an optimizer\n",
        "opt = optim.Adam(model2.parameters(), lr=0.0025, betas=(0.9, 0.999))\n",
        "# The criterion is a binary cross entropy loss based on logits - meaning that the sigmoid is integrated into the criterion\n",
        "criterion = nn.BCEWithLogitsLoss()"
      ]
    },
    {
      "cell_type": "code",
      "execution_count": null,
      "metadata": {
        "id": "kcs1q3xOd0gp",
        "outputId": "722ac207-38a5-4772-ccb3-70fea6045d67"
      },
      "outputs": [
        {
          "name": "stdout",
          "output_type": "stream",
          "text": [
            "Beginning training...\n",
            "Epoch 1:\n"
          ]
        },
        {
          "name": "stderr",
          "output_type": "stream",
          "text": [
            "training loss: 0.6307, training acc: 73.7090: 100%|██████████| 203/203 [00:00<00:00, 219.25it/s]\n"
          ]
        },
        {
          "name": "stdout",
          "output_type": "stream",
          "text": [
            "Validation loss: 0.5925, Validation acc: 76.3462\n",
            "Epoch 2:\n"
          ]
        },
        {
          "name": "stderr",
          "output_type": "stream",
          "text": [
            "training loss: 0.5620, training acc: 77.4636: 100%|██████████| 203/203 [00:00<00:00, 228.32it/s]\n"
          ]
        },
        {
          "name": "stdout",
          "output_type": "stream",
          "text": [
            "Validation loss: 0.5476, Validation acc: 78.9692\n",
            "Epoch 3:\n"
          ]
        },
        {
          "name": "stderr",
          "output_type": "stream",
          "text": [
            "training loss: 0.5236, training acc: 79.9889: 100%|██████████| 203/203 [00:00<00:00, 218.51it/s]\n"
          ]
        },
        {
          "name": "stdout",
          "output_type": "stream",
          "text": [
            "Validation loss: 0.5193, Validation acc: 80.7846\n",
            "Epoch 4:\n"
          ]
        },
        {
          "name": "stderr",
          "output_type": "stream",
          "text": [
            "training loss: 0.4979, training acc: 81.6292: 100%|██████████| 203/203 [00:00<00:00, 219.52it/s]\n"
          ]
        },
        {
          "name": "stdout",
          "output_type": "stream",
          "text": [
            "Validation loss: 0.4996, Validation acc: 81.5538\n",
            "Epoch 5:\n"
          ]
        },
        {
          "name": "stderr",
          "output_type": "stream",
          "text": [
            "training loss: 0.4792, training acc: 82.3844: 100%|██████████| 203/203 [00:00<00:00, 209.74it/s]\n"
          ]
        },
        {
          "name": "stdout",
          "output_type": "stream",
          "text": [
            "Validation loss: 0.4855, Validation acc: 82.0769\n",
            "Test loss: 0.4886, Test acc: 81.2538\n"
          ]
        }
      ],
      "source": [
        "train_losses = experiment(model2, opt, criterion,num_epochs=5)"
      ]
    },
    {
      "cell_type": "code",
      "execution_count": null,
      "metadata": {
        "id": "0fPBFMOBd0gq",
        "outputId": "ff8bd0ab-67c2-4522-fb5d-3e53cef12350"
      },
      "outputs": [
        {
          "name": "stdout",
          "output_type": "stream",
          "text": [
            "Beginning training...\n",
            "Epoch 1:\n"
          ]
        },
        {
          "name": "stderr",
          "output_type": "stream",
          "text": [
            "training loss: 0.4650, training acc: 82.9738: 100%|██████████| 203/203 [00:01<00:00, 172.94it/s]\n"
          ]
        },
        {
          "name": "stdout",
          "output_type": "stream",
          "text": [
            "Validation loss: 0.4741, Validation acc: 82.3538\n",
            "Epoch 2:\n"
          ]
        },
        {
          "name": "stderr",
          "output_type": "stream",
          "text": [
            "training loss: 0.4535, training acc: 83.2204: 100%|██████████| 203/203 [00:01<00:00, 159.22it/s]\n"
          ]
        },
        {
          "name": "stdout",
          "output_type": "stream",
          "text": [
            "Validation loss: 0.4661, Validation acc: 82.3231\n",
            "INFO: Early stopping counter 1 of 5\n",
            "Epoch 3:\n"
          ]
        },
        {
          "name": "stderr",
          "output_type": "stream",
          "text": [
            "training loss: 0.4445, training acc: 83.5982: 100%|██████████| 203/203 [00:01<00:00, 152.34it/s]\n"
          ]
        },
        {
          "name": "stdout",
          "output_type": "stream",
          "text": [
            "Validation loss: 0.4580, Validation acc: 82.3846\n",
            "Epoch 4:\n"
          ]
        },
        {
          "name": "stderr",
          "output_type": "stream",
          "text": [
            "training loss: 0.4367, training acc: 83.7462: 100%|██████████| 203/203 [00:01<00:00, 164.93it/s]\n"
          ]
        },
        {
          "name": "stdout",
          "output_type": "stream",
          "text": [
            "Validation loss: 0.4515, Validation acc: 82.6308\n",
            "INFO: Early stopping counter 1 of 5\n",
            "Epoch 5:\n"
          ]
        },
        {
          "name": "stderr",
          "output_type": "stream",
          "text": [
            "training loss: 0.4305, training acc: 83.9046: 100%|██████████| 203/203 [00:01<00:00, 168.44it/s]\n"
          ]
        },
        {
          "name": "stdout",
          "output_type": "stream",
          "text": [
            "Validation loss: 0.4473, Validation acc: 82.7231\n",
            "Test loss: 0.4506, Test acc: 82.6385\n"
          ]
        }
      ],
      "source": [
        "model2.embeddings.requires_grad = True\n",
        "train_losses = experiment(model2, opt, criterion,num_epochs=5)"
      ]
    },
    {
      "cell_type": "markdown",
      "metadata": {
        "id": "857cakd8d0gq"
      },
      "source": [
        "#### Model3"
      ]
    },
    {
      "cell_type": "code",
      "execution_count": null,
      "metadata": {
        "id": "pAuPD-dBd0gr"
      },
      "outputs": [],
      "source": [
        "model3 = LSTMModel(300,64, embeddings=model1.embeddings, fine_tuning=False)\n",
        "model3 = model3.to(device)\n",
        "# Create an optimizer\n",
        "opt = optim.Adam(model3.parameters(), lr=0.001, betas=(0.9, 0.999))\n",
        "# The criterion is a binary cross entropy loss based on logits - meaning that the sigmoid is integrated into the criterion\n",
        "criterion = nn.BCEWithLogitsLoss()"
      ]
    },
    {
      "cell_type": "code",
      "execution_count": null,
      "metadata": {
        "id": "5YTS2RjOd0gr",
        "outputId": "4e9157b5-4848-4360-8d2f-d9fcf2bdf008"
      },
      "outputs": [
        {
          "name": "stdout",
          "output_type": "stream",
          "text": [
            "Beginning training...\n",
            "Epoch 1:\n"
          ]
        },
        {
          "name": "stderr",
          "output_type": "stream",
          "text": [
            "training loss: 0.5661, training acc: 67.5333: 100%|██████████| 203/203 [00:04<00:00, 41.82it/s]\n"
          ]
        },
        {
          "name": "stdout",
          "output_type": "stream",
          "text": [
            "Validation loss: 0.4767, Validation acc: 81.8385\n",
            "Epoch 2:\n"
          ]
        },
        {
          "name": "stderr",
          "output_type": "stream",
          "text": [
            "training loss: 0.4177, training acc: 85.2163: 100%|██████████| 203/203 [00:04<00:00, 46.39it/s]\n"
          ]
        },
        {
          "name": "stdout",
          "output_type": "stream",
          "text": [
            "Validation loss: 0.4875, Validation acc: 79.0923\n",
            "INFO: Early stopping counter 1 of 5\n",
            "Epoch 3:\n"
          ]
        },
        {
          "name": "stderr",
          "output_type": "stream",
          "text": [
            "training loss: 0.4054, training acc: 83.8984: 100%|██████████| 203/203 [00:04<00:00, 46.57it/s]\n"
          ]
        },
        {
          "name": "stdout",
          "output_type": "stream",
          "text": [
            "Validation loss: 0.4705, Validation acc: 80.5615\n",
            "INFO: Early stopping counter 2 of 5\n",
            "Epoch 4:\n"
          ]
        },
        {
          "name": "stderr",
          "output_type": "stream",
          "text": [
            "training loss: 0.3847, training acc: 85.4866: 100%|██████████| 203/203 [00:04<00:00, 46.66it/s]\n"
          ]
        },
        {
          "name": "stdout",
          "output_type": "stream",
          "text": [
            "Validation loss: 0.4688, Validation acc: 81.3615\n",
            "INFO: Early stopping counter 3 of 5\n",
            "Epoch 5:\n"
          ]
        },
        {
          "name": "stderr",
          "output_type": "stream",
          "text": [
            "training loss: 0.3800, training acc: 85.8975: 100%|██████████| 203/203 [00:04<00:00, 47.23it/s]\n"
          ]
        },
        {
          "name": "stdout",
          "output_type": "stream",
          "text": [
            "Validation loss: 0.4676, Validation acc: 81.3000\n",
            "INFO: Early stopping counter 4 of 5\n",
            "Epoch 6:\n"
          ]
        },
        {
          "name": "stderr",
          "output_type": "stream",
          "text": [
            "training loss: 0.3732, training acc: 86.5296: 100%|██████████| 203/203 [00:04<00:00, 47.98it/s]\n"
          ]
        },
        {
          "name": "stdout",
          "output_type": "stream",
          "text": [
            "Validation loss: 0.4670, Validation acc: 81.8846\n",
            "INFO: Early stopping counter 5 of 5\n",
            "INFO: Early stopping\n",
            "Test loss: 0.4699, Test acc: 81.9308\n"
          ]
        }
      ],
      "source": [
        "train_losses = experiment(model3, opt, criterion,num_epochs=10)"
      ]
    },
    {
      "cell_type": "markdown",
      "metadata": {
        "id": "jndmFaMhd0gr"
      },
      "source": [
        "### Hyperparameter Tuning"
      ]
    },
    {
      "cell_type": "code",
      "execution_count": null,
      "metadata": {
        "id": "NCK2BTlgd0gs",
        "outputId": "17b42c54-3cf2-41cd-ead5-62c7cb1033ac"
      },
      "outputs": [
        {
          "name": "stdout",
          "output_type": "stream",
          "text": [
            "Requirement already satisfied: ray in c:\\users\\user\\anaconda3\\envs\\kite\\lib\\site-packages (1.9.0)\n",
            "Requirement already satisfied: grpcio>=1.28.1 in c:\\users\\user\\anaconda3\\envs\\kite\\lib\\site-packages (from ray) (1.42.0)\n",
            "Requirement already satisfied: pyyaml in c:\\users\\user\\anaconda3\\envs\\kite\\lib\\site-packages (from ray) (6.0)\n",
            "Requirement already satisfied: msgpack<2.0.0,>=1.0.0 in c:\\users\\user\\anaconda3\\envs\\kite\\lib\\site-packages (from ray) (1.0.3)\n",
            "Requirement already satisfied: redis>=3.5.0 in c:\\users\\user\\anaconda3\\envs\\kite\\lib\\site-packages (from ray) (4.0.2)\n",
            "Requirement already satisfied: jsonschema in c:\\users\\user\\anaconda3\\envs\\kite\\lib\\site-packages (from ray) (4.2.1)\n",
            "Requirement already satisfied: click>=7.0 in c:\\users\\user\\anaconda3\\envs\\kite\\lib\\site-packages (from ray) (8.0.3)\n",
            "Requirement already satisfied: filelock in c:\\users\\user\\anaconda3\\envs\\kite\\lib\\site-packages (from ray) (3.4.0)\n",
            "Requirement already satisfied: protobuf>=3.15.3 in c:\\users\\user\\anaconda3\\envs\\kite\\lib\\site-packages (from ray) (3.19.1)\n",
            "Requirement already satisfied: attrs in c:\\users\\user\\anaconda3\\envs\\kite\\lib\\site-packages (from ray) (21.2.0)\n",
            "Requirement already satisfied: numpy>=1.16 in c:\\users\\user\\anaconda3\\envs\\kite\\lib\\site-packages (from ray) (1.18.5)\n",
            "Requirement already satisfied: colorama in c:\\users\\user\\anaconda3\\envs\\kite\\lib\\site-packages (from click>=7.0->ray) (0.4.4)\n",
            "Requirement already satisfied: six>=1.5.2 in c:\\users\\user\\anaconda3\\envs\\kite\\lib\\site-packages (from grpcio>=1.28.1->ray) (1.16.0)\n",
            "Requirement already satisfied: deprecated in c:\\users\\user\\anaconda3\\envs\\kite\\lib\\site-packages (from redis>=3.5.0->ray) (1.2.13)\n",
            "Requirement already satisfied: importlib-resources>=1.4.0 in c:\\users\\user\\anaconda3\\envs\\kite\\lib\\site-packages (from jsonschema->ray) (5.4.0)\n",
            "Requirement already satisfied: pyrsistent!=0.17.0,!=0.17.1,!=0.17.2,>=0.14.0 in c:\\users\\user\\anaconda3\\envs\\kite\\lib\\site-packages (from jsonschema->ray) (0.18.0)\n",
            "Requirement already satisfied: zipp>=3.1.0 in c:\\users\\user\\anaconda3\\envs\\kite\\lib\\site-packages (from importlib-resources>=1.4.0->jsonschema->ray) (3.6.0)\n",
            "Requirement already satisfied: wrapt<2,>=1.10 in c:\\users\\user\\anaconda3\\envs\\kite\\lib\\site-packages (from deprecated->redis>=3.5.0->ray) (1.13.3)\n",
            "Requirement already satisfied: tensorboardx in c:\\users\\user\\anaconda3\\envs\\kite\\lib\\site-packages (2.4.1)\n",
            "Requirement already satisfied: numpy in c:\\users\\user\\anaconda3\\envs\\kite\\lib\\site-packages (from tensorboardx) (1.18.5)\n",
            "Requirement already satisfied: protobuf>=3.8.0 in c:\\users\\user\\anaconda3\\envs\\kite\\lib\\site-packages (from tensorboardx) (3.19.1)\n"
          ]
        }
      ],
      "source": [
        "!pip install ray\n",
        "!pip install -U tensorboardx"
      ]
    },
    {
      "cell_type": "code",
      "execution_count": null,
      "metadata": {
        "id": "bVPZdeWpd0gs"
      },
      "outputs": [],
      "source": [
        "from ray import tune\n",
        "from ray.tune import JupyterNotebookReporter\n",
        "from ray.tune.schedulers import ASHAScheduler"
      ]
    },
    {
      "cell_type": "code",
      "execution_count": null,
      "metadata": {
        "id": "emrlwZh8d0gt"
      },
      "outputs": [],
      "source": [
        "def train_hsr(config,checkpoint_dir=None):\n",
        "    model =  AveragingModel(config[\"d_embedding\"], len(en_vocab))\n",
        "    model = model.to(device)\n",
        "    \n",
        "    optimizer  = optim.Adam(model.parameters(), lr=config[\"lr\"], betas=(0.9, 0.999))\n",
        "    criterion = nn.BCEWithLogitsLoss()\n",
        "    \n",
        "    training_dataloader = DataLoader(training_dataset, batch_size = int(config[\"batch_size\"]), shuffle=True)\n",
        "    valid_dataloader = DataLoader(valid_dataset, batch_size = int(config[\"batch_size\"]))\n",
        "    \n",
        "    early_stopping = EarlyStopping(patience=5,min_delta=0.01)\n",
        "    for epoch in range(20):\n",
        "        train_epoch(model, optimizer, criterion, training_dataloader,disable_bar=True)\n",
        "        valid_loss, valid_acc = eval_model(model, criterion, valid_dataloader)\n",
        "\n",
        "        tune.report(loss=valid_loss, accuracy=valid_acc)\n",
        "        \n",
        "        early_stopping(valid_loss)\n",
        "        if early_stopping.early_stop:\n",
        "                break  \n",
        "        \n",
        "    print(\"Finished Training\")\n",
        "        "
      ]
    },
    {
      "cell_type": "code",
      "execution_count": null,
      "metadata": {
        "id": "FyX6wMl_d0gt"
      },
      "outputs": [],
      "source": [
        "def hyperparameter_search(config,num_samples=10, max_num_epochs=10):\n",
        "    scheduler = ASHAScheduler(\n",
        "        metric=\"loss\",\n",
        "        mode=\"min\",\n",
        "        max_t=max_num_epochs,\n",
        "        grace_period=1,\n",
        "        reduction_factor=2)\n",
        "    reporter = JupyterNotebookReporter(\n",
        "        overwrite= True,\n",
        "        metric_columns=[\"loss\", \"accuracy\", \"training_iteration\"])\n",
        "    \n",
        "    result = tune.run(\n",
        "        train_hsr,\n",
        "        resources_per_trial={\"gpu\": 1},\n",
        "        config=config,\n",
        "        num_samples=num_samples,\n",
        "        scheduler=scheduler,\n",
        "        progress_reporter=reporter)\n",
        "\n",
        "    best_trial = result.get_best_trial(\"loss\", \"min\", \"last\")\n",
        "    print(\"Best trial config: {}\".format(best_trial.config))\n",
        "    print(\"Best trial final validation loss: {}\".format(best_trial.last_result[\"loss\"]))\n",
        "    print(\"Best trial final validation accuracy: {}\".format(best_trial.last_result[\"accuracy\"]))\n"
      ]
    },
    {
      "cell_type": "markdown",
      "metadata": {
        "id": "jOaRoezZd0gu"
      },
      "source": [
        "#### model 1"
      ]
    },
    {
      "cell_type": "code",
      "execution_count": null,
      "metadata": {
        "id": "HPoXcVCpd0gv"
      },
      "outputs": [],
      "source": [
        "config = {\n",
        "        \"d_embedding\" : tune.choice([64,128,256,300]),\n",
        "        \"lr\": tune.choice([0.02,0.01,0.0025]),#tune.loguniform(1e-4, 1e-3),\n",
        "        \"batch_size\": tune.choice([32,64,128])\n",
        "    }"
      ]
    },
    {
      "cell_type": "code",
      "execution_count": null,
      "metadata": {
        "id": "5WHH811bd0gv",
        "outputId": "a057a188-29d8-4600-ad84-ad02bf94c8f6"
      },
      "outputs": [
        {
          "data": {
            "text/html": [
              "== Status ==<br>Current time: 2021-12-14 20:44:37 (running for 00:07:16.51)<br>Memory usage on this node: 13.2/15.9 GiB<br>Using AsyncHyperBand: num_stopped=15\n",
              "Bracket: Iter 8.000: None | Iter 4.000: -0.3394852068561774 | Iter 2.000: -0.302070465742373 | Iter 1.000: -0.3182608139494695<br>Resources requested: 0/12 CPUs, 0/1 GPUs, 0.0/4.82 GiB heap, 0.0/2.41 GiB objects<br>Result logdir: C:\\Users\\user\\ray_results\\train_hsr_2021-12-14_20-37-20<br>Number of trials: 20/20 (20 TERMINATED)<br><table>\n",
              "<thead>\n",
              "<tr><th>Trial name           </th><th>status    </th><th>loc            </th><th style=\"text-align: right;\">  batch_size</th><th style=\"text-align: right;\">  d_embedding</th><th style=\"text-align: right;\">    lr</th><th style=\"text-align: right;\">    loss</th><th style=\"text-align: right;\">  accuracy</th><th style=\"text-align: right;\">  training_iteration</th></tr>\n",
              "</thead>\n",
              "<tbody>\n",
              "<tr><td>train_hsr_4103c_00000</td><td>TERMINATED</td><td>127.0.0.1:17676</td><td style=\"text-align: right;\">          32</td><td style=\"text-align: right;\">          128</td><td style=\"text-align: right;\">0.01  </td><td style=\"text-align: right;\">0.473745</td><td style=\"text-align: right;\">   88.3578</td><td style=\"text-align: right;\">                   6</td></tr>\n",
              "<tr><td>train_hsr_4103c_00001</td><td>TERMINATED</td><td>127.0.0.1:23956</td><td style=\"text-align: right;\">          64</td><td style=\"text-align: right;\">          256</td><td style=\"text-align: right;\">0.01  </td><td style=\"text-align: right;\">0.293922</td><td style=\"text-align: right;\">   89.4349</td><td style=\"text-align: right;\">                   1</td></tr>\n",
              "<tr><td>train_hsr_4103c_00002</td><td>TERMINATED</td><td>127.0.0.1:2288 </td><td style=\"text-align: right;\">          64</td><td style=\"text-align: right;\">          128</td><td style=\"text-align: right;\">0.0025</td><td style=\"text-align: right;\">0.429869</td><td style=\"text-align: right;\">   84.2361</td><td style=\"text-align: right;\">                   1</td></tr>\n",
              "<tr><td>train_hsr_4103c_00003</td><td>TERMINATED</td><td>127.0.0.1:8212 </td><td style=\"text-align: right;\">          64</td><td style=\"text-align: right;\">          300</td><td style=\"text-align: right;\">0.01  </td><td style=\"text-align: right;\">0.475382</td><td style=\"text-align: right;\">   88.2224</td><td style=\"text-align: right;\">                   6</td></tr>\n",
              "<tr><td>train_hsr_4103c_00004</td><td>TERMINATED</td><td>127.0.0.1:14436</td><td style=\"text-align: right;\">          64</td><td style=\"text-align: right;\">          128</td><td style=\"text-align: right;\">0.0025</td><td style=\"text-align: right;\">0.422552</td><td style=\"text-align: right;\">   85.094 </td><td style=\"text-align: right;\">                   1</td></tr>\n",
              "<tr><td>train_hsr_4103c_00005</td><td>TERMINATED</td><td>127.0.0.1:3744 </td><td style=\"text-align: right;\">          64</td><td style=\"text-align: right;\">           64</td><td style=\"text-align: right;\">0.01  </td><td style=\"text-align: right;\">0.314119</td><td style=\"text-align: right;\">   89.006 </td><td style=\"text-align: right;\">                   1</td></tr>\n",
              "<tr><td>train_hsr_4103c_00006</td><td>TERMINATED</td><td>127.0.0.1:17592</td><td style=\"text-align: right;\">         128</td><td style=\"text-align: right;\">          256</td><td style=\"text-align: right;\">0.0025</td><td style=\"text-align: right;\">0.451825</td><td style=\"text-align: right;\">   83.5664</td><td style=\"text-align: right;\">                   1</td></tr>\n",
              "<tr><td>train_hsr_4103c_00007</td><td>TERMINATED</td><td>127.0.0.1:14864</td><td style=\"text-align: right;\">         128</td><td style=\"text-align: right;\">           64</td><td style=\"text-align: right;\">0.0025</td><td style=\"text-align: right;\">0.555954</td><td style=\"text-align: right;\">   78.1671</td><td style=\"text-align: right;\">                   1</td></tr>\n",
              "<tr><td>train_hsr_4103c_00008</td><td>TERMINATED</td><td>127.0.0.1:11544</td><td style=\"text-align: right;\">          64</td><td style=\"text-align: right;\">          300</td><td style=\"text-align: right;\">0.0025</td><td style=\"text-align: right;\">0.381619</td><td style=\"text-align: right;\">   86.3583</td><td style=\"text-align: right;\">                   1</td></tr>\n",
              "<tr><td>train_hsr_4103c_00009</td><td>TERMINATED</td><td>127.0.0.1:7204 </td><td style=\"text-align: right;\">          32</td><td style=\"text-align: right;\">          300</td><td style=\"text-align: right;\">0.02  </td><td style=\"text-align: right;\">0.30207 </td><td style=\"text-align: right;\">   89.2157</td><td style=\"text-align: right;\">                   2</td></tr>\n",
              "<tr><td>train_hsr_4103c_00010</td><td>TERMINATED</td><td>127.0.0.1:18172</td><td style=\"text-align: right;\">          64</td><td style=\"text-align: right;\">           64</td><td style=\"text-align: right;\">0.0025</td><td style=\"text-align: right;\">0.459787</td><td style=\"text-align: right;\">   82.63  </td><td style=\"text-align: right;\">                   1</td></tr>\n",
              "<tr><td>train_hsr_4103c_00011</td><td>TERMINATED</td><td>127.0.0.1:15584</td><td style=\"text-align: right;\">          32</td><td style=\"text-align: right;\">          256</td><td style=\"text-align: right;\">0.0025</td><td style=\"text-align: right;\">0.365432</td><td style=\"text-align: right;\">   89.3689</td><td style=\"text-align: right;\">                   7</td></tr>\n",
              "<tr><td>train_hsr_4103c_00012</td><td>TERMINATED</td><td>127.0.0.1:9560 </td><td style=\"text-align: right;\">         128</td><td style=\"text-align: right;\">          128</td><td style=\"text-align: right;\">0.01  </td><td style=\"text-align: right;\">0.44245 </td><td style=\"text-align: right;\">   88.8869</td><td style=\"text-align: right;\">                   7</td></tr>\n",
              "<tr><td>train_hsr_4103c_00013</td><td>TERMINATED</td><td>127.0.0.1:2996 </td><td style=\"text-align: right;\">          32</td><td style=\"text-align: right;\">          128</td><td style=\"text-align: right;\">0.01  </td><td style=\"text-align: right;\">0.300252</td><td style=\"text-align: right;\">   90.0735</td><td style=\"text-align: right;\">                   2</td></tr>\n",
              "<tr><td>train_hsr_4103c_00014</td><td>TERMINATED</td><td>127.0.0.1:18448</td><td style=\"text-align: right;\">          64</td><td style=\"text-align: right;\">          256</td><td style=\"text-align: right;\">0.02  </td><td style=\"text-align: right;\">0.316217</td><td style=\"text-align: right;\">   89.1108</td><td style=\"text-align: right;\">                   2</td></tr>\n",
              "<tr><td>train_hsr_4103c_00015</td><td>TERMINATED</td><td>127.0.0.1:9824 </td><td style=\"text-align: right;\">         128</td><td style=\"text-align: right;\">          128</td><td style=\"text-align: right;\">0.01  </td><td style=\"text-align: right;\">0.426858</td><td style=\"text-align: right;\">   89.0972</td><td style=\"text-align: right;\">                   7</td></tr>\n",
              "<tr><td>train_hsr_4103c_00016</td><td>TERMINATED</td><td>127.0.0.1:7100 </td><td style=\"text-align: right;\">         128</td><td style=\"text-align: right;\">          256</td><td style=\"text-align: right;\">0.02  </td><td style=\"text-align: right;\">0.307833</td><td style=\"text-align: right;\">   89.7029</td><td style=\"text-align: right;\">                   2</td></tr>\n",
              "<tr><td>train_hsr_4103c_00017</td><td>TERMINATED</td><td>127.0.0.1:12992</td><td style=\"text-align: right;\">          32</td><td style=\"text-align: right;\">           64</td><td style=\"text-align: right;\">0.02  </td><td style=\"text-align: right;\">0.306959</td><td style=\"text-align: right;\">   89.4608</td><td style=\"text-align: right;\">                   2</td></tr>\n",
              "<tr><td>train_hsr_4103c_00018</td><td>TERMINATED</td><td>127.0.0.1:21596</td><td style=\"text-align: right;\">          32</td><td style=\"text-align: right;\">           64</td><td style=\"text-align: right;\">0.02  </td><td style=\"text-align: right;\">0.304777</td><td style=\"text-align: right;\">   89.4608</td><td style=\"text-align: right;\">                   2</td></tr>\n",
              "<tr><td>train_hsr_4103c_00019</td><td>TERMINATED</td><td>127.0.0.1:2008 </td><td style=\"text-align: right;\">         128</td><td style=\"text-align: right;\">          300</td><td style=\"text-align: right;\">0.0025</td><td style=\"text-align: right;\">0.438319</td><td style=\"text-align: right;\">   85.2143</td><td style=\"text-align: right;\">                   1</td></tr>\n",
              "</tbody>\n",
              "</table><br><br>"
            ],
            "text/plain": [
              "<IPython.core.display.HTML object>"
            ]
          },
          "metadata": {},
          "output_type": "display_data"
        },
        {
          "name": "stderr",
          "output_type": "stream",
          "text": [
            "2021-12-14 20:44:37,504\tINFO tune.py:626 -- Total run time: 437.31 seconds (436.49 seconds for the tuning loop).\n"
          ]
        },
        {
          "name": "stdout",
          "output_type": "stream",
          "text": [
            "Best trial config: {'d_embedding': 256, 'lr': 0.01, 'batch_size': 64}\n",
            "Best trial final validation loss: 0.2939215717362423\n",
            "Best trial final validation accuracy: 89.43491288727405\n"
          ]
        }
      ],
      "source": [
        "hyperparameter_search(config,num_samples=20)"
      ]
    },
    {
      "cell_type": "markdown",
      "metadata": {
        "id": "ocMC6wv1d0gw"
      },
      "source": [
        "### Best model"
      ]
    },
    {
      "cell_type": "code",
      "execution_count": null,
      "metadata": {
        "id": "mUSYmza6d0gw"
      },
      "outputs": [],
      "source": [
        "BATCH_SIZE = 64\n",
        "## Dataloaders\n",
        "training_dataloader = DataLoader(training_dataset, batch_size = BATCH_SIZE, shuffle=True)"
      ]
    },
    {
      "cell_type": "code",
      "execution_count": null,
      "metadata": {
        "id": "plYfpmvyd0gx"
      },
      "outputs": [],
      "source": [
        "model1 = AveragingModel(256, len(en_vocab))\n",
        "model1 = model1.to(device)\n",
        "# Create an optimizer\n",
        "opt = optim.Adam(model1.parameters(), lr=0.01, betas=(0.9, 0.999))\n",
        "# The criterion is a binary cross entropy loss based on logits - meaning that the sigmoid is integrated into the criterion\n",
        "# pos_weight = torch.tensor([9]).to(device)\n",
        "criterion = nn.BCEWithLogitsLoss()"
      ]
    },
    {
      "cell_type": "code",
      "execution_count": null,
      "metadata": {
        "id": "Ld4VGny8d0gx",
        "outputId": "ec76b202-1680-4d08-bac6-aa60d747209b"
      },
      "outputs": [
        {
          "name": "stdout",
          "output_type": "stream",
          "text": [
            "Beginning training...\n",
            "Epoch 1:\n"
          ]
        },
        {
          "name": "stderr",
          "output_type": "stream",
          "text": [
            "training loss: 0.0955, training acc: 96.6302: 100%|██████████| 406/406 [00:04<00:00, 98.13it/s]\n"
          ]
        },
        {
          "name": "stdout",
          "output_type": "stream",
          "text": [
            "Validation loss: 0.5103, Validation acc: 87.8769\n",
            "Epoch 2:\n"
          ]
        },
        {
          "name": "stderr",
          "output_type": "stream",
          "text": [
            "training loss: 0.0892, training acc: 96.8065: 100%|██████████| 406/406 [00:04<00:00, 96.60it/s]\n"
          ]
        },
        {
          "name": "stdout",
          "output_type": "stream",
          "text": [
            "Validation loss: 0.5636, Validation acc: 87.9385\n",
            "INFO: Early stopping counter 1 of 5\n",
            "Epoch 3:\n"
          ]
        },
        {
          "name": "stderr",
          "output_type": "stream",
          "text": [
            "training loss: 0.0811, training acc: 97.0312: 100%|██████████| 406/406 [00:04<00:00, 95.72it/s]\n"
          ]
        },
        {
          "name": "stdout",
          "output_type": "stream",
          "text": [
            "Validation loss: 0.5959, Validation acc: 87.5077\n",
            "INFO: Early stopping counter 2 of 5\n",
            "Epoch 4:\n"
          ]
        },
        {
          "name": "stderr",
          "output_type": "stream",
          "text": [
            "training loss: 0.0774, training acc: 97.2421: 100%|██████████| 406/406 [00:04<00:00, 87.54it/s]\n"
          ]
        },
        {
          "name": "stdout",
          "output_type": "stream",
          "text": [
            "Validation loss: 0.6431, Validation acc: 87.8154\n",
            "INFO: Early stopping counter 3 of 5\n",
            "Epoch 5:\n"
          ]
        },
        {
          "name": "stderr",
          "output_type": "stream",
          "text": [
            "training loss: 0.0724, training acc: 97.3738: 100%|██████████| 406/406 [00:04<00:00, 91.11it/s]\n"
          ]
        },
        {
          "name": "stdout",
          "output_type": "stream",
          "text": [
            "Validation loss: 0.6892, Validation acc: 87.7538\n",
            "INFO: Early stopping counter 4 of 5\n",
            "Epoch 6:\n"
          ]
        },
        {
          "name": "stderr",
          "output_type": "stream",
          "text": [
            "training loss: 0.0694, training acc: 97.5754: 100%|██████████| 406/406 [00:04<00:00, 92.19it/s]\n"
          ]
        },
        {
          "name": "stdout",
          "output_type": "stream",
          "text": [
            "Validation loss: 0.7322, Validation acc: 87.3538\n",
            "INFO: Early stopping counter 5 of 5\n",
            "INFO: Early stopping\n",
            "Test loss: 0.7870, Test acc: 88.2000\n"
          ]
        }
      ],
      "source": [
        "losses = experiment(model1, opt, criterion,num_epochs=20,use_early_stopping=True)"
      ]
    },
    {
      "cell_type": "markdown",
      "metadata": {
        "id": "kEXYTaUVd0gy"
      },
      "source": [
        "## Inspect model"
      ]
    },
    {
      "cell_type": "code",
      "execution_count": null,
      "metadata": {
        "id": "BxFXjJxnd0gy"
      },
      "outputs": [],
      "source": [
        "def hate_speech_recognition(text,model):\n",
        "    text_dataset = TextClassificationDataset([text],[0],en_vocab)\n",
        "    text_dataloader = DataLoader(text_dataset, batch_size = 1)\n",
        "    x,y = next(iter(text_dataloader))\n",
        "    \n",
        "    model.eval()\n",
        "    with torch.no_grad():\n",
        "        pred = model(x)\n",
        "        ## less than 0 -> non hate (class 0)\n",
        "        ## else Hate -> (class 1)\n",
        "        ## since there is no sigmoid acivation in the last layer \n",
        "        text_class = (pred>0)\n",
        "    result = text_class[0].item()\n",
        "    \n",
        "    ## print results\n",
        "    if result:\n",
        "        print(\"hate speech detected\")\n",
        "    else:\n",
        "        print(\"non hate speech\")\n",
        "    \n",
        "    return result"
      ]
    },
    {
      "cell_type": "code",
      "execution_count": null,
      "metadata": {
        "id": "DWDEuEBHd0gz"
      },
      "outputs": [],
      "source": [
        "model1 = model1.to(\"cpu\")"
      ]
    },
    {
      "cell_type": "code",
      "execution_count": null,
      "metadata": {
        "id": "P5mjFN7qd0gz",
        "outputId": "fda6b761-a778-408d-d7d2-5b1450120cbc"
      },
      "outputs": [
        {
          "name": "stdout",
          "output_type": "stream",
          "text": [
            "hate speech detected\n"
          ]
        },
        {
          "data": {
            "text/plain": [
              "True"
            ]
          },
          "execution_count": 54,
          "metadata": {},
          "output_type": "execute_result"
        }
      ],
      "source": [
        "hate_speech_recognition(\"I hate you\",model=model1)"
      ]
    },
    {
      "cell_type": "code",
      "execution_count": null,
      "metadata": {
        "id": "U9ZMw4tad0g0"
      },
      "outputs": [],
      "source": [
        "def inspect_model(model, evalloader):\n",
        "    model.eval()\n",
        "    false_positive = []\n",
        "    false_negative = []\n",
        "    with torch.no_grad():\n",
        "        for i, (x, y) in enumerate(evalloader):\n",
        "            pred = model(x)\n",
        "            text_class = (pred>0)\n",
        "            \n",
        "            if text_class != y:\n",
        "                result = text_class[0].item()\n",
        "                if result:\n",
        "                    false_positive.append(i)\n",
        "                else:\n",
        "                    false_negative.append(i)\n",
        "    return false_positive,false_negative\n",
        "\n",
        "\n",
        "inspect_dataloader = DataLoader(test_dataset, batch_size = 1, shuffle=False)\n",
        "false_positive,false_negative = inspect_model(model1,inspect_dataloader)"
      ]
    },
    {
      "cell_type": "code",
      "execution_count": null,
      "metadata": {
        "id": "I9jCwvuSd0g0",
        "outputId": "b10208d6-7b41-4ab1-a59c-236368a90f89"
      },
      "outputs": [
        {
          "name": "stdout",
          "output_type": "stream",
          "text": [
            "179\n"
          ]
        }
      ],
      "source": [
        "print(len(false_positive))"
      ]
    },
    {
      "cell_type": "markdown",
      "metadata": {
        "id": "8IopQ-H1d0g1"
      },
      "source": [
        "### False Hate (false Positive)"
      ]
    },
    {
      "cell_type": "code",
      "execution_count": null,
      "metadata": {
        "id": "BaO8H8h3d0g1",
        "outputId": "37bd7bbb-de14-458e-a82b-269e50b0aa23"
      },
      "outputs": [
        {
          "name": "stdout",
          "output_type": "stream",
          "text": [
            "hate speech detected\n",
            "PLAIN text:\n",
            "Ombudsman\n",
            "\n",
            "is there for for Wiki?\n",
            "\n",
            "beckjord\n",
            "\n",
            "TOKENIZED TEXT:\n",
            "['ombudsman', 'wiki', 'beckjord']\n",
            "\n",
            "Predicted:  Hate\n",
            "True Label:  Non hate\n",
            "hate speech detected\n",
            "PLAIN text:\n",
            "Thanks! ) \n",
            "\n",
            "Hi, just wanted to let you know that I think you're a total loser to be patrolling recent changes.  Go outside and do us all a favor.\n",
            "Note: you ARE being reported for vandalism  stop it.\n",
            "\n",
            "TOKENIZED TEXT:\n",
            "['thank', 'want', 'let', 'know', 'think', 'total', 'loser', 'patrol', 'recent', 'chang', 'outsid', 'favor', 'note', 'report', 'vandal', 'stop']\n",
            "\n",
            "Predicted:  Hate\n",
            "True Label:  Non hate\n"
          ]
        }
      ],
      "source": [
        "## false Positive\n",
        "for i in false_positive[14:16]:\n",
        "    text = test_x.iloc[i]\n",
        "    pred_label = hate_speech_recognition(text,model=model1)\n",
        "    true_label = test_y.iloc[i]\n",
        "    print(\"PLAIN text:\")\n",
        "    print(text)\n",
        "    print()\n",
        "    print(\"TOKENIZED TEXT:\")\n",
        "    print(clean_and_tokenize(text))\n",
        "    print()\n",
        "    print(\"Predicted: \",\"Hate\" if pred_label else \"Non hate\")\n",
        "    print(\"True Label: \",\"Hate\" if true_label==1 else \"Non hate\")"
      ]
    },
    {
      "cell_type": "markdown",
      "metadata": {
        "id": "1CZBAh6zd0g2"
      },
      "source": [
        "### False Non Hate (false Negative)"
      ]
    },
    {
      "cell_type": "code",
      "execution_count": null,
      "metadata": {
        "id": "jZ0Gc4Ond0g2",
        "outputId": "b3ec003c-31d4-44ad-b838-bb781428f645"
      },
      "outputs": [
        {
          "name": "stdout",
          "output_type": "stream",
          "text": [
            "non hate speech\n",
            "PLAIN text:\n",
            "Definition of fat- Lauren Lozano!\n",
            "\n",
            "TOKENIZED TEXT:\n",
            "['definit', 'fat', 'lauren', 'lozano']\n",
            "\n",
            "Predicted:  Non hate\n",
            "True Label:  Hate\n"
          ]
        }
      ],
      "source": [
        "## false Negative\n",
        "for i in false_negative[32:33]:\n",
        "    text = test_x.iloc[i]\n",
        "    pred_label = hate_speech_recognition(text,model=model1)\n",
        "    true_label = test_y.iloc[i]\n",
        "    print(\"PLAIN text:\")\n",
        "    print(text)\n",
        "    print()\n",
        "    print(\"TOKENIZED TEXT:\")\n",
        "    print(clean_and_tokenize(text))\n",
        "    print()\n",
        "    print(\"Predicted: \",\"Hate\" if pred_label else \"Non hate\")\n",
        "    print(\"True Label: \",\"Hate\" if true_label==1 else \"Non hate\")"
      ]
    }
  ],
  "metadata": {
    "interpreter": {
      "hash": "9b432319b1b054266bcdf59eb764237d3d3272012fbf9a2e21780dc801e4d991"
    },
    "kernelspec": {
      "display_name": "Python 3.9.5 64-bit ('tf': conda)",
      "language": "python",
      "name": "python3"
    },
    "language_info": {
      "codemirror_mode": {
        "name": "ipython",
        "version": 3
      },
      "file_extension": ".py",
      "mimetype": "text/x-python",
      "name": "python",
      "nbconvert_exporter": "python",
      "pygments_lexer": "ipython3",
      "version": "3.8.12"
    },
    "orig_nbformat": 4,
    "colab": {
      "provenance": [],
      "include_colab_link": true
    }
  },
  "nbformat": 4,
  "nbformat_minor": 0
}